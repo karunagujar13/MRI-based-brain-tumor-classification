{
 "cells": [
  {
   "cell_type": "code",
   "execution_count": 1,
   "metadata": {},
   "outputs": [],
   "source": [
    "import os\n",
    "import numpy as np\n",
    "import keras\n",
    "import tensorflow as tf \n",
    "from tensorflow.keras.models import Sequential\n",
    "from tensorflow.keras.layers import Convolution2D\n",
    "from tensorflow.keras.layers import MaxPooling2D\n",
    "from tensorflow.keras.layers import Dropout\n",
    "from tensorflow.keras.layers import Flatten\n",
    "#from tensorflow.keras.layers import Input\n",
    "from tensorflow.keras.layers import Dense\n",
    "from tensorflow.keras.preprocessing.image import ImageDataGenerator\n",
    "from keras.applications.nasnet import NASNetMobile\n",
    "from keras.layers import Dense, Dropout, Flatten, Activation, GlobalAveragePooling2D\n",
    "from keras.optimizers import RMSprop\n",
    "import functools\n",
    "import matplotlib.pyplot as plt\n",
    "from tensorflow.keras import datasets, layers, models\n",
    "from keras.layers import Conv2D, MaxPooling2D\n",
    "from tensorflow.keras.applications.vgg16 import VGG16\n",
    "from tensorflow.keras.models import Model"
   ]
  },
  {
   "cell_type": "code",
   "execution_count": 2,
   "metadata": {},
   "outputs": [],
   "source": [
    "MODEL_NAME = \"M_CNN_M1_10_20.h5\"\n",
    "IMG_ROWS, IMG_COLS = 224, 224\n",
    "INPUT_SHAPE=(224, 224, 3)\n",
    "PATH = 'data/'\n",
    "TRAIN_DATA_PATH = os.path.join(PATH, 'Training')\n",
    "TEST_DATA_PATH = os.path.join(PATH, 'Testing')\n",
    "BATCH_SIZE = 40\n",
    "NUM_EPOCHS = 50\n",
    "CLASS_MODE = 'categorical'\n",
    "COLOR_MODE = 'rgb'\n",
    "SAVE_FORMAT = 'png'\n"
   ]
  },
  {
   "cell_type": "code",
   "execution_count": 3,
   "metadata": {},
   "outputs": [
    {
     "data": {
      "text/plain": [
       "array(['.DS_Store', 'glioma_tumor', 'meningioma_tumor', 'no_tumor',\n",
       "       'pituitary_tumor'], dtype='<U16')"
      ]
     },
     "execution_count": 3,
     "metadata": {},
     "output_type": "execute_result"
    }
   ],
   "source": [
    "\n",
    "data_dir_list =np.sort(os.listdir(TRAIN_DATA_PATH))\n",
    "data_dir_list"
   ]
  },
  {
   "cell_type": "code",
   "execution_count": 4,
   "metadata": {},
   "outputs": [
    {
     "data": {
      "text/plain": [
       "array(['glioma_tumor', 'meningioma_tumor', 'no_tumor', 'pituitary_tumor'],\n",
       "      dtype='<U16')"
      ]
     },
     "execution_count": 4,
     "metadata": {},
     "output_type": "execute_result"
    }
   ],
   "source": [
    "\n",
    "data_dir_list_Test =np.sort(os.listdir(TEST_DATA_PATH))\n",
    "data_dir_list_Test"
   ]
  },
  {
   "cell_type": "code",
   "execution_count": 5,
   "metadata": {},
   "outputs": [],
   "source": [
    "train_data_gen = ImageDataGenerator(\n",
    "    rotation_range=20,\n",
    "    shear_range=0.5, \n",
    "    rescale=1./255,\n",
    "    vertical_flip=True, \n",
    "    validation_split=0.2,\n",
    "    width_shift_range=0.1,\n",
    "    height_shift_range=0.1,\n",
    "    horizontal_flip=True) "
   ]
  },
  {
   "cell_type": "code",
   "execution_count": 6,
   "metadata": {},
   "outputs": [
    {
     "name": "stdout",
     "output_type": "stream",
     "text": [
      "Found 2297 images belonging to 4 classes.\n",
      "Found 573 images belonging to 4 classes.\n"
     ]
    }
   ],
   "source": [
    "train_generator = train_data_gen.flow_from_directory(\n",
    "        TRAIN_DATA_PATH,\n",
    "        target_size=(IMG_ROWS, IMG_COLS), \n",
    "        batch_size=BATCH_SIZE,\n",
    "        class_mode=CLASS_MODE,\n",
    "        color_mode=COLOR_MODE, \n",
    "        shuffle=True,   \n",
    "        save_format=SAVE_FORMAT, \n",
    "        subset=\"training\")\n",
    "\n",
    "\n",
    "val_generator = train_data_gen.flow_from_directory(\n",
    "    TRAIN_DATA_PATH,\n",
    "    target_size=(IMG_ROWS, IMG_COLS), \n",
    "    batch_size=BATCH_SIZE,\n",
    "    class_mode=CLASS_MODE,\n",
    "    color_mode=COLOR_MODE, \n",
    "    shuffle=True,   \n",
    "    save_format=SAVE_FORMAT, \n",
    "    subset='validation'\n",
    ")"
   ]
  },
  {
   "cell_type": "code",
   "execution_count": 7,
   "metadata": {},
   "outputs": [
    {
     "data": {
      "text/plain": [
       "2297"
      ]
     },
     "execution_count": 7,
     "metadata": {},
     "output_type": "execute_result"
    }
   ],
   "source": [
    "train_generator.samples "
   ]
  },
  {
   "cell_type": "code",
   "execution_count": 8,
   "metadata": {},
   "outputs": [
    {
     "data": {
      "text/plain": [
       "{'glioma_tumor': 0, 'meningioma_tumor': 1, 'no_tumor': 2, 'pituitary_tumor': 3}"
      ]
     },
     "execution_count": 8,
     "metadata": {},
     "output_type": "execute_result"
    }
   ],
   "source": [
    "train_generator.class_indices"
   ]
  },
  {
   "cell_type": "code",
   "execution_count": 9,
   "metadata": {},
   "outputs": [
    {
     "name": "stdout",
     "output_type": "stream",
     "text": [
      "Found 394 images belonging to 4 classes.\n"
     ]
    }
   ],
   "source": [
    "test_datagen = ImageDataGenerator(\n",
    "    rescale=1./255\n",
    ")\n",
    "\n",
    "test_generator = test_datagen.flow_from_directory(\n",
    "    TEST_DATA_PATH,\n",
    "    target_size=(IMG_ROWS, IMG_COLS),\n",
    "    batch_size=BATCH_SIZE,\n",
    "    class_mode=CLASS_MODE,\n",
    "    color_mode=COLOR_MODE, \n",
    "    shuffle = False,\n",
    "    seed=None,  \n",
    "    save_format=SAVE_FORMAT\n",
    ")\n"
   ]
  },
  {
   "cell_type": "code",
   "execution_count": 10,
   "metadata": {},
   "outputs": [],
   "source": [
    "from keras.callbacks import EarlyStopping\n",
    "early_stopping = EarlyStopping(monitor='val_loss', patience=2)"
   ]
  },
  {
   "cell_type": "code",
   "execution_count": 11,
   "metadata": {},
   "outputs": [],
   "source": [
    "def create_vgg_model():\n",
    "    \n",
    "    \n",
    "    conv = VGG16(input_shape= INPUT_SHAPE,weights='imagenet',include_top=False)\n",
    "    conv.output\n",
    "\n",
    "\n",
    "    x = conv.output\n",
    "    x = GlobalAveragePooling2D()(x)\n",
    "\n",
    "\n",
    "    x = Dense(1024,activation='relu')(x)\n",
    "    x = Dense(1024,activation='relu')(x)\n",
    "    x = Dense(1024,activation='relu')(x)\n",
    "    x = Dense(1024,activation='relu')(x)\n",
    "    x = Dense(512, activation='relu')(x)\n",
    "\n",
    "\n",
    "    pred = Dense(4,activation='softmax')(x)\n",
    "    model = Model(inputs = conv.input,outputs=pred)\n",
    "    \n",
    "    \n",
    "    for layer in conv.layers:\n",
    "        layer.trainable = False\n",
    "\n",
    "\n",
    "    model.compile(\n",
    "        loss = 'categorical_crossentropy',\n",
    "        optimizer = 'adam',\n",
    "        metrics = ['accuracy']\n",
    "\n",
    "    )\n",
    "    \n",
    "    return model"
   ]
  },
  {
   "cell_type": "code",
   "execution_count": 12,
   "metadata": {},
   "outputs": [],
   "source": [
    "import itertools\n",
    "\n",
    "from keras.utils.np_utils import to_categorical \n",
    "from keras.models import Sequential\n",
    "from keras.layers import Dense, Dropout, Flatten, Conv2D, MaxPool2D\n",
    "from keras.optimizers import RMSprop,Adam\n",
    "from keras.preprocessing.image import ImageDataGenerator\n",
    "from keras.callbacks import ReduceLROnPlateau\n",
    "\n",
    "def cnn_model():\n",
    "    model = Sequential()\n",
    "    #\n",
    "    model.add(Conv2D(filters = 64, kernel_size = (5,5),padding = 'Same', \n",
    "                     activation ='relu', input_shape = INPUT_SHAPE))\n",
    "    model.add(MaxPool2D(pool_size=(2,2)))\n",
    "    model.add(Dropout(0.25))\n",
    "    #\n",
    "    model.add(Conv2D(filters = 128, kernel_size = (3,3),padding = 'Same', \n",
    "                     activation ='relu'))\n",
    "    model.add(MaxPool2D(pool_size=(2,2), strides=(2,2)))\n",
    "    model.add(Dropout(0.25))\n",
    "    #\n",
    "    model.add(Conv2D(filters = 128, kernel_size = (3,3),padding = 'Same', \n",
    "                     activation ='relu'))\n",
    "    model.add(MaxPool2D(pool_size=(2,2), strides=(2,2)))\n",
    "    model.add(Dropout(0.3))\n",
    "    #\n",
    "    model.add(Conv2D(filters = 128, kernel_size = (2,2),padding = 'Same', \n",
    "                     activation ='relu'))\n",
    "    model.add(MaxPool2D(pool_size=(2,2), strides=(2,2)))\n",
    "    model.add(Dropout(0.3))\n",
    "\n",
    "    #\n",
    "    model.add(Conv2D(filters = 256, kernel_size = (2,2),padding = 'Same', \n",
    "                     activation ='relu'))\n",
    "    model.add(MaxPool2D(pool_size=(2,2), strides=(2,2)))\n",
    "    model.add(Dropout(0.3))\n",
    "\n",
    "    # \n",
    "    model.add(Flatten())\n",
    "    model.add(Dense(1024, activation = \"relu\"))\n",
    "    model.add(Dropout(0.5))\n",
    "    model.add(Dense(4, activation = \"softmax\"))\n",
    "    optimizer = Adam(lr=0.001, beta_1=0.9, beta_2=0.999)\n",
    "    model.compile(optimizer = optimizer , loss = \"categorical_crossentropy\", metrics=[\"accuracy\"])\n",
    "    \n",
    "    return model"
   ]
  },
  {
   "cell_type": "code",
   "execution_count": 13,
   "metadata": {},
   "outputs": [
    {
     "name": "stdout",
     "output_type": "stream",
     "text": [
      "Epoch 1/50\n",
      "58/58 [==============================] - 212s 4s/step - loss: 1.3966 - accuracy: 0.3683 - val_loss: 1.2908 - val_accuracy: 0.4171\n",
      "Epoch 2/50\n",
      "58/58 [==============================] - 212s 4s/step - loss: 1.1930 - accuracy: 0.4693 - val_loss: 1.2641 - val_accuracy: 0.4066\n",
      "Epoch 3/50\n",
      "58/58 [==============================] - 211s 4s/step - loss: 1.1438 - accuracy: 0.4963 - val_loss: 1.2181 - val_accuracy: 0.4415\n",
      "Epoch 4/50\n",
      "58/58 [==============================] - 211s 4s/step - loss: 0.9786 - accuracy: 0.5925 - val_loss: 1.3016 - val_accuracy: 0.4398\n",
      "Epoch 5/50\n",
      "58/58 [==============================] - 211s 4s/step - loss: 0.9303 - accuracy: 0.6186 - val_loss: 1.2887 - val_accuracy: 0.4136\n",
      "Epoch 6/50\n",
      "58/58 [==============================] - 211s 4s/step - loss: 0.8712 - accuracy: 0.6321 - val_loss: 1.3970 - val_accuracy: 0.4223\n",
      "Epoch 7/50\n",
      "58/58 [==============================] - 213s 4s/step - loss: 0.8243 - accuracy: 0.6548 - val_loss: 1.2755 - val_accuracy: 0.4956\n",
      "Epoch 8/50\n",
      "58/58 [==============================] - 211s 4s/step - loss: 0.8143 - accuracy: 0.6508 - val_loss: 1.1728 - val_accuracy: 0.4834\n",
      "Epoch 9/50\n",
      "58/58 [==============================] - 212s 4s/step - loss: 0.7681 - accuracy: 0.6757 - val_loss: 1.4270 - val_accuracy: 0.4363\n",
      "Epoch 10/50\n",
      "58/58 [==============================] - 212s 4s/step - loss: 0.7727 - accuracy: 0.6735 - val_loss: 1.2057 - val_accuracy: 0.5131\n",
      "Epoch 11/50\n",
      "58/58 [==============================] - 212s 4s/step - loss: 0.7160 - accuracy: 0.6970 - val_loss: 1.1810 - val_accuracy: 0.5375\n",
      "Epoch 12/50\n",
      "58/58 [==============================] - 212s 4s/step - loss: 0.6819 - accuracy: 0.7157 - val_loss: 1.1657 - val_accuracy: 0.5410\n",
      "Epoch 13/50\n",
      "58/58 [==============================] - 212s 4s/step - loss: 0.6909 - accuracy: 0.7083 - val_loss: 1.1675 - val_accuracy: 0.5323\n",
      "Epoch 14/50\n",
      "58/58 [==============================] - 212s 4s/step - loss: 0.6500 - accuracy: 0.7218 - val_loss: 1.1480 - val_accuracy: 0.5654\n",
      "Epoch 15/50\n",
      "58/58 [==============================] - 212s 4s/step - loss: 0.6329 - accuracy: 0.7257 - val_loss: 1.1257 - val_accuracy: 0.5323\n",
      "Epoch 16/50\n",
      "58/58 [==============================] - 212s 4s/step - loss: 0.6343 - accuracy: 0.7375 - val_loss: 1.3733 - val_accuracy: 0.5515\n",
      "Epoch 17/50\n",
      "58/58 [==============================] - 212s 4s/step - loss: 0.6091 - accuracy: 0.7384 - val_loss: 1.1404 - val_accuracy: 0.5620\n",
      "Epoch 18/50\n",
      "58/58 [==============================] - 212s 4s/step - loss: 0.5987 - accuracy: 0.7545 - val_loss: 1.3445 - val_accuracy: 0.5271\n",
      "Epoch 19/50\n",
      "58/58 [==============================] - 212s 4s/step - loss: 0.5774 - accuracy: 0.7597 - val_loss: 1.1745 - val_accuracy: 0.5829\n",
      "Epoch 20/50\n",
      "58/58 [==============================] - 214s 4s/step - loss: 0.5633 - accuracy: 0.7688 - val_loss: 1.0058 - val_accuracy: 0.5812\n",
      "Epoch 21/50\n",
      "58/58 [==============================] - 212s 4s/step - loss: 0.5447 - accuracy: 0.7784 - val_loss: 1.1819 - val_accuracy: 0.5462\n",
      "Epoch 22/50\n",
      "58/58 [==============================] - 212s 4s/step - loss: 0.5232 - accuracy: 0.7823 - val_loss: 1.0913 - val_accuracy: 0.5620\n",
      "Epoch 23/50\n",
      "58/58 [==============================] - 219s 4s/step - loss: 0.5313 - accuracy: 0.7727 - val_loss: 1.1656 - val_accuracy: 0.5742\n",
      "Epoch 24/50\n",
      "58/58 [==============================] - 213s 4s/step - loss: 0.5222 - accuracy: 0.7780 - val_loss: 1.2944 - val_accuracy: 0.5777\n",
      "Epoch 25/50\n",
      "58/58 [==============================] - 209s 4s/step - loss: 0.5033 - accuracy: 0.7906 - val_loss: 1.3005 - val_accuracy: 0.5515\n",
      "Epoch 26/50\n",
      "58/58 [==============================] - 210s 4s/step - loss: 0.5046 - accuracy: 0.7945 - val_loss: 1.0784 - val_accuracy: 0.5986\n",
      "Epoch 27/50\n",
      "58/58 [==============================] - 209s 4s/step - loss: 0.4836 - accuracy: 0.7958 - val_loss: 0.9254 - val_accuracy: 0.6021\n",
      "Epoch 28/50\n",
      "58/58 [==============================] - 209s 4s/step - loss: 0.4740 - accuracy: 0.7949 - val_loss: 1.1358 - val_accuracy: 0.5986\n",
      "Epoch 29/50\n",
      "58/58 [==============================] - 209s 4s/step - loss: 0.4869 - accuracy: 0.8019 - val_loss: 1.0393 - val_accuracy: 0.6161\n",
      "Epoch 30/50\n",
      "58/58 [==============================] - 209s 4s/step - loss: 0.4540 - accuracy: 0.8115 - val_loss: 1.1986 - val_accuracy: 0.5829\n",
      "Epoch 31/50\n",
      "58/58 [==============================] - 211s 4s/step - loss: 0.4528 - accuracy: 0.8093 - val_loss: 1.0805 - val_accuracy: 0.5724\n",
      "Epoch 32/50\n",
      "58/58 [==============================] - 216s 4s/step - loss: 0.4325 - accuracy: 0.8254 - val_loss: 1.1283 - val_accuracy: 0.5969\n",
      "Epoch 33/50\n",
      "58/58 [==============================] - 211s 4s/step - loss: 0.4224 - accuracy: 0.8198 - val_loss: 1.1639 - val_accuracy: 0.5829\n",
      "Epoch 34/50\n",
      "58/58 [==============================] - 210s 4s/step - loss: 0.4563 - accuracy: 0.8132 - val_loss: 1.1091 - val_accuracy: 0.6091\n",
      "Epoch 35/50\n",
      "58/58 [==============================] - 210s 4s/step - loss: 0.4237 - accuracy: 0.8185 - val_loss: 1.0084 - val_accuracy: 0.5881\n",
      "Epoch 36/50\n",
      "58/58 [==============================] - 212s 4s/step - loss: 0.4240 - accuracy: 0.8311 - val_loss: 1.0314 - val_accuracy: 0.6178\n",
      "Epoch 37/50\n",
      "58/58 [==============================] - 209s 4s/step - loss: 0.4077 - accuracy: 0.8280 - val_loss: 0.9369 - val_accuracy: 0.6492\n",
      "Epoch 38/50\n",
      "58/58 [==============================] - 211s 4s/step - loss: 0.3976 - accuracy: 0.8354 - val_loss: 1.0558 - val_accuracy: 0.6265\n",
      "Epoch 39/50\n",
      "58/58 [==============================] - 210s 4s/step - loss: 0.4165 - accuracy: 0.8276 - val_loss: 1.0126 - val_accuracy: 0.6422\n",
      "Epoch 40/50\n",
      "58/58 [==============================] - 210s 4s/step - loss: 0.3996 - accuracy: 0.8402 - val_loss: 1.0177 - val_accuracy: 0.6353\n",
      "Epoch 41/50\n",
      "58/58 [==============================] - 210s 4s/step - loss: 0.3784 - accuracy: 0.8450 - val_loss: 0.9761 - val_accuracy: 0.6562\n",
      "Epoch 42/50\n",
      "58/58 [==============================] - 210s 4s/step - loss: 0.3853 - accuracy: 0.8363 - val_loss: 1.3934 - val_accuracy: 0.6248\n",
      "Epoch 43/50\n",
      "58/58 [==============================] - 210s 4s/step - loss: 0.3866 - accuracy: 0.8459 - val_loss: 1.3010 - val_accuracy: 0.6422\n",
      "Epoch 44/50\n",
      "58/58 [==============================] - 210s 4s/step - loss: 0.3810 - accuracy: 0.8441 - val_loss: 1.1334 - val_accuracy: 0.6335\n",
      "Epoch 45/50\n",
      "58/58 [==============================] - 210s 4s/step - loss: 0.3787 - accuracy: 0.8498 - val_loss: 1.2143 - val_accuracy: 0.6492\n",
      "Epoch 46/50\n",
      "58/58 [==============================] - 210s 4s/step - loss: 0.3732 - accuracy: 0.8489 - val_loss: 0.9819 - val_accuracy: 0.6789\n",
      "Epoch 47/50\n",
      "58/58 [==============================] - 211s 4s/step - loss: 0.3759 - accuracy: 0.8468 - val_loss: 0.7968 - val_accuracy: 0.6998\n",
      "Epoch 48/50\n",
      "58/58 [==============================] - 211s 4s/step - loss: 0.3658 - accuracy: 0.8437 - val_loss: 1.0790 - val_accuracy: 0.6492\n",
      "Epoch 49/50\n",
      "58/58 [==============================] - 211s 4s/step - loss: 0.3707 - accuracy: 0.8533 - val_loss: 1.1202 - val_accuracy: 0.6318\n",
      "Epoch 50/50\n",
      "58/58 [==============================] - 211s 4s/step - loss: 0.3342 - accuracy: 0.8611 - val_loss: 0.9472 - val_accuracy: 0.6736\n"
     ]
    }
   ],
   "source": [
    "model = cnn_model()\n",
    "\n",
    "# Train the model\n",
    "history = model.fit(\n",
    "    train_generator,\n",
    "    validation_data=val_generator,\n",
    "    epochs=NUM_EPOCHS,\n",
    "    workers=6,\n",
    "    max_queue_size=100,\n",
    "    verbose=True,\n",
    "    #callbacks=[early_stopping]\n",
    ")"
   ]
  },
  {
   "cell_type": "code",
   "execution_count": 14,
   "metadata": {},
   "outputs": [
    {
     "name": "stdout",
     "output_type": "stream",
     "text": [
      "Model: \"sequential\"\n",
      "_________________________________________________________________\n",
      "Layer (type)                 Output Shape              Param #   \n",
      "=================================================================\n",
      "conv2d (Conv2D)              (None, 224, 224, 64)      4864      \n",
      "_________________________________________________________________\n",
      "max_pooling2d (MaxPooling2D) (None, 112, 112, 64)      0         \n",
      "_________________________________________________________________\n",
      "dropout (Dropout)            (None, 112, 112, 64)      0         \n",
      "_________________________________________________________________\n",
      "conv2d_1 (Conv2D)            (None, 112, 112, 128)     73856     \n",
      "_________________________________________________________________\n",
      "max_pooling2d_1 (MaxPooling2 (None, 56, 56, 128)       0         \n",
      "_________________________________________________________________\n",
      "dropout_1 (Dropout)          (None, 56, 56, 128)       0         \n",
      "_________________________________________________________________\n",
      "conv2d_2 (Conv2D)            (None, 56, 56, 128)       147584    \n",
      "_________________________________________________________________\n",
      "max_pooling2d_2 (MaxPooling2 (None, 28, 28, 128)       0         \n",
      "_________________________________________________________________\n",
      "dropout_2 (Dropout)          (None, 28, 28, 128)       0         \n",
      "_________________________________________________________________\n",
      "conv2d_3 (Conv2D)            (None, 28, 28, 128)       65664     \n",
      "_________________________________________________________________\n",
      "max_pooling2d_3 (MaxPooling2 (None, 14, 14, 128)       0         \n",
      "_________________________________________________________________\n",
      "dropout_3 (Dropout)          (None, 14, 14, 128)       0         \n",
      "_________________________________________________________________\n",
      "conv2d_4 (Conv2D)            (None, 14, 14, 256)       131328    \n",
      "_________________________________________________________________\n",
      "max_pooling2d_4 (MaxPooling2 (None, 7, 7, 256)         0         \n",
      "_________________________________________________________________\n",
      "dropout_4 (Dropout)          (None, 7, 7, 256)         0         \n",
      "_________________________________________________________________\n",
      "flatten (Flatten)            (None, 12544)             0         \n",
      "_________________________________________________________________\n",
      "dense (Dense)                (None, 1024)              12846080  \n",
      "_________________________________________________________________\n",
      "dropout_5 (Dropout)          (None, 1024)              0         \n",
      "_________________________________________________________________\n",
      "dense_1 (Dense)              (None, 4)                 4100      \n",
      "=================================================================\n",
      "Total params: 13,273,476\n",
      "Trainable params: 13,273,476\n",
      "Non-trainable params: 0\n",
      "_________________________________________________________________\n"
     ]
    }
   ],
   "source": [
    "model.summary()"
   ]
  },
  {
   "cell_type": "code",
   "execution_count": 15,
   "metadata": {},
   "outputs": [
    {
     "name": "stdout",
     "output_type": "stream",
     "text": [
      "10/10 [==============================] - 6s 589ms/step - loss: 3.1766 - accuracy: 0.4619\n",
      "Test Accuracy Top-1: 46.192893385887146%\n"
     ]
    }
   ],
   "source": [
    "loss, accuracy = model.evaluate(test_generator)\n",
    "\n",
    "print(f\"Test Accuracy Top-1: {accuracy * 100}%\")"
   ]
  },
  {
   "cell_type": "code",
   "execution_count": 16,
   "metadata": {},
   "outputs": [
    {
     "data": {
      "image/png": "[encoded data removed]",
      "text/plain": [
       "<Figure size 432x288 with 2 Axes>"
      ]
     },
     "metadata": {
      "needs_background": "light"
     },
     "output_type": "display_data"
    }
   ],
   "source": [
    "\n",
    "plt.figure(1)\n",
    "\n",
    "# summarize history for accuracy\n",
    "plt.subplot(211) \n",
    "plt.plot(history.history['accuracy']) \n",
    "plt.plot(history.history['val_accuracy']) \n",
    "plt.title('model accuracy') \n",
    "plt.ylabel('accuracy')\n",
    "plt.xlabel('epoch')\n",
    "plt.legend(['Accuracy', 'val_acc'], loc='upper left')\n",
    "\n",
    "# summarize history for loss\n",
    "plt.subplot(212) \n",
    "plt.plot(history.history['loss']) \n",
    "plt.plot(history.history['val_loss']) \n",
    "plt.title('model loss')\n",
    "plt.ylabel('loss')\n",
    "plt.xlabel('epoch')\n",
    "plt.legend(['train', 'val'], loc='upper left')\n",
    "plt.tight_layout() \n",
    "plt.savefig('acc_loss_50.pdf')\n",
    "plt.show()"
   ]
  },
  {
   "cell_type": "code",
   "execution_count": null,
   "metadata": {},
   "outputs": [],
   "source": []
  }
 ],
 "metadata": {
  "kernelspec": {
   "display_name": "Python 3",
   "language": "python",
   "name": "python3"
  },
  "language_info": {
   "codemirror_mode": {
    "name": "ipython",
    "version": 3
   },
   "file_extension": ".py",
   "mimetype": "text/x-python",
   "name": "python",
   "nbconvert_exporter": "python",
   "pygments_lexer": "ipython3",
   "version": "3.7.6"
  }
 },
 "nbformat": 4,
 "nbformat_minor": 4
}
