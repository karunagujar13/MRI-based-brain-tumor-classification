{
 "cells": [
  {
   "cell_type": "markdown",
   "metadata": {},
   "source": [
    "### Model1 - Uses NASNet with dataset balancing"
   ]
  },
  {
   "cell_type": "markdown",
   "metadata": {},
   "source": [
    "This model uses :\n",
    "    1. NASNet as the base architecture \n",
    "    2. Batch size =40 and 100 epochs. \n",
    "    3. Uses processed (Histogram equalized) data \n",
    "    4. With balanced weights - used class_weights parameter during model fitting \n",
    "    5. Uses LR scheduler step decay."
   ]
  },
  {
   "cell_type": "code",
   "execution_count": 19,
   "metadata": {},
   "outputs": [],
   "source": [
    "import os\n",
    "import numpy as np\n",
    "import keras\n",
    "import tensorflow as tf \n",
    "from tensorflow.keras.models import Sequential\n",
    "from tensorflow.keras.layers import Convolution2D\n",
    "from tensorflow.keras.layers import MaxPooling2D\n",
    "from tensorflow.keras.layers import Dropout\n",
    "from tensorflow.keras.layers import Flatten\n",
    "#from tensorflow.keras.layers import Input\n",
    "from tensorflow.keras.layers import Dense\n",
    "from tensorflow.keras.preprocessing.image import ImageDataGenerator\n",
    "from keras.applications.nasnet import NASNetMobile\n",
    "from keras.layers import Dense, Dropout, Flatten, Activation, GlobalAveragePooling2D\n",
    "from keras.optimizers import RMSprop\n",
    "import functools\n",
    "import matplotlib.pyplot as plt\n",
    "from tensorflow.keras import datasets, layers, models\n",
    "from keras.layers import Conv2D, MaxPooling2D\n",
    "from keras.optimizers import RMSprop,Adam\n",
    "from keras.callbacks import LearningRateScheduler\n",
    "import math"
   ]
  },
  {
   "cell_type": "code",
   "execution_count": 20,
   "metadata": {},
   "outputs": [],
   "source": [
    "IMG_ROWS, IMG_COLS = 224, 224\n",
    "INPUT_SHAPE=(224, 224, 3)\n",
    "PATH = 'data/processed_data'\n",
    "TRAIN_DATA_PATH = os.path.join(PATH, 'Training')\n",
    "TEST_DATA_PATH = os.path.join(PATH, 'Testing')\n",
    "BATCH_SIZE = 40\n",
    "NUM_EPOCHS = 100\n",
    "CLASS_MODE = 'categorical'\n",
    "COLOR_MODE = 'rgb'\n",
    "SAVE_FORMAT = 'png'\n"
   ]
  },
  {
   "cell_type": "code",
   "execution_count": 21,
   "metadata": {},
   "outputs": [
    {
     "data": {
      "text/plain": [
       "array(['glioma_tumor', 'meningioma_tumor', 'no_tumor', 'pituitary_tumor'],\n",
       "      dtype='<U16')"
      ]
     },
     "execution_count": 21,
     "metadata": {},
     "output_type": "execute_result"
    }
   ],
   "source": [
    "\n",
    "data_dir_list =np.sort(os.listdir(TRAIN_DATA_PATH))\n",
    "data_dir_list"
   ]
  },
  {
   "cell_type": "code",
   "execution_count": 22,
   "metadata": {},
   "outputs": [
    {
     "data": {
      "text/plain": [
       "array(['glioma_tumor', 'meningioma_tumor', 'no_tumor', 'pituitary_tumor'],\n",
       "      dtype='<U16')"
      ]
     },
     "execution_count": 22,
     "metadata": {},
     "output_type": "execute_result"
    }
   ],
   "source": [
    "\n",
    "data_dir_list_Test =np.sort(os.listdir(TEST_DATA_PATH))\n",
    "data_dir_list_Test"
   ]
  },
  {
   "cell_type": "code",
   "execution_count": 23,
   "metadata": {},
   "outputs": [],
   "source": [
    "train_data_gen = ImageDataGenerator(\n",
    "    rotation_range=20,\n",
    "    brightness_range=[0.6, 0.9],\n",
    "    zoom_range=[0.5,1.5],\n",
    "    rescale=1./255,\n",
    "    vertical_flip=True, \n",
    "    validation_split=0.2,\n",
    "    width_shift_range=0.1,\n",
    "    height_shift_range=0.1,\n",
    "    horizontal_flip=True) "
   ]
  },
  {
   "cell_type": "code",
   "execution_count": 24,
   "metadata": {},
   "outputs": [
    {
     "name": "stdout",
     "output_type": "stream",
     "text": [
      "Found 2298 images belonging to 4 classes.\n",
      "Found 573 images belonging to 4 classes.\n"
     ]
    }
   ],
   "source": [
    "train_generator = train_data_gen.flow_from_directory(\n",
    "        TRAIN_DATA_PATH,\n",
    "        target_size=(IMG_ROWS, IMG_COLS), \n",
    "        batch_size=BATCH_SIZE,\n",
    "        class_mode=CLASS_MODE,\n",
    "        color_mode=COLOR_MODE, \n",
    "        shuffle=True,   \n",
    "        save_format=SAVE_FORMAT, \n",
    "        subset=\"training\")\n",
    "\n",
    "\n",
    "val_generator = train_data_gen.flow_from_directory(\n",
    "    TRAIN_DATA_PATH,\n",
    "    target_size=(IMG_ROWS, IMG_COLS), \n",
    "    batch_size=BATCH_SIZE,\n",
    "    class_mode=CLASS_MODE,\n",
    "    color_mode=COLOR_MODE, \n",
    "    shuffle=True,   \n",
    "    save_format=SAVE_FORMAT, \n",
    "    subset='validation'\n",
    ")"
   ]
  },
  {
   "cell_type": "code",
   "execution_count": 25,
   "metadata": {},
   "outputs": [
    {
     "data": {
      "text/plain": [
       "2298"
      ]
     },
     "execution_count": 25,
     "metadata": {},
     "output_type": "execute_result"
    }
   ],
   "source": [
    "train_generator.samples "
   ]
  },
  {
   "cell_type": "code",
   "execution_count": 26,
   "metadata": {},
   "outputs": [
    {
     "data": {
      "text/plain": [
       "{'glioma_tumor': 0, 'meningioma_tumor': 1, 'no_tumor': 2, 'pituitary_tumor': 3}"
      ]
     },
     "execution_count": 26,
     "metadata": {},
     "output_type": "execute_result"
    }
   ],
   "source": [
    "train_generator.class_indices"
   ]
  },
  {
   "cell_type": "code",
   "execution_count": 27,
   "metadata": {},
   "outputs": [
    {
     "name": "stdout",
     "output_type": "stream",
     "text": [
      "Found 394 images belonging to 4 classes.\n"
     ]
    }
   ],
   "source": [
    "test_datagen = ImageDataGenerator(\n",
    "    rescale=1./255\n",
    ")\n",
    "\n",
    "test_generator = test_datagen.flow_from_directory(\n",
    "    TEST_DATA_PATH,\n",
    "    target_size=(IMG_ROWS, IMG_COLS),\n",
    "    batch_size=BATCH_SIZE,\n",
    "    class_mode=CLASS_MODE,\n",
    "    color_mode=COLOR_MODE, \n",
    "    shuffle = False,\n",
    "    seed=None,  \n",
    "    save_format=SAVE_FORMAT\n",
    ")\n"
   ]
  },
  {
   "cell_type": "code",
   "execution_count": 28,
   "metadata": {},
   "outputs": [],
   "source": [
    "\n",
    "def create_nasnet_model():\n",
    "    \n",
    "    # Base model, with weights pre-trained on ImageNet.\n",
    "    base_model = NASNetMobile(INPUT_SHAPE, weights='imagenet', include_top=False)\n",
    "\n",
    "    for layer in base_model.layers:\n",
    "        layer.trainable = False\n",
    "\n",
    "    model = Sequential()\n",
    "    model.add(base_model)\n",
    "    model.add(GlobalAveragePooling2D())\n",
    "    model.add(Dropout(0.5))\n",
    "    model.add(Dense(4, activation='softmax'))\n",
    "    \n",
    "    learning_rate = 0.1\n",
    "    momentum = 0.8\n",
    "    optimizer = keras.optimizers.SGD(lr=learning_rate, momentum=momentum, nesterov=False)\n",
    "\n",
    "    model.compile(\n",
    "        loss = 'categorical_crossentropy',\n",
    "        optimizer = optimizer,\n",
    "        metrics = ['accuracy']\n",
    "    )\n",
    "    \n",
    "    return model"
   ]
  },
  {
   "cell_type": "code",
   "execution_count": 29,
   "metadata": {},
   "outputs": [],
   "source": [
    "from keras.callbacks import EarlyStopping\n",
    "early_stopping = EarlyStopping(monitor='val_loss', patience=2)"
   ]
  },
  {
   "cell_type": "code",
   "execution_count": 30,
   "metadata": {},
   "outputs": [],
   "source": [
    "def step_decay(epoch):\n",
    "   initial_lrate = 0.1\n",
    "   drop = 0.5\n",
    "   epochs_drop = 10.0\n",
    "   lrate = initial_lrate * math.pow(drop,  \n",
    "           math.floor((1+epoch)/epochs_drop))\n",
    "   return lrate\n",
    "\n",
    "lr_scheduler =keras.callbacks.LearningRateScheduler(step_decay, verbose=1)"
   ]
  },
  {
   "cell_type": "code",
   "execution_count": 31,
   "metadata": {},
   "outputs": [],
   "source": [
    "\n",
    "callbacks_list  = [lr_scheduler]"
   ]
  },
  {
   "cell_type": "markdown",
   "metadata": {},
   "source": [
    "This function calculates the weights for each class depending on the count for each class."
   ]
  },
  {
   "cell_type": "code",
   "execution_count": 32,
   "metadata": {},
   "outputs": [],
   "source": [
    "import numpy as np\n",
    "import math\n",
    "\n",
    "# labels_dict : {ind_label: count_label}\n",
    "# mu : parameter to tune \n",
    "\n",
    "def create_class_weight(labels_dict,mu=0.15):\n",
    "    total = sum(labels_dict.values())\n",
    "    keys = labels_dict.keys()\n",
    "    class_weight = dict()\n",
    "    for key in keys:\n",
    "        score = (mu*total)/float(labels_dict[key])\n",
    "        class_weight[key] = score if score > 1.0 else 1.0\n",
    "\n",
    "    return class_weight\n",
    "\n",
    "# labels_dict - counts for each class are from the respective folders.\n",
    "labels_dict = {0: 826, 1: 822, 2: 395, 3: 827}\n",
    "\n",
    "class_wt = create_class_weight(labels_dict)"
   ]
  },
  {
   "cell_type": "markdown",
   "metadata": {},
   "source": [
    "Calculated class weights are applied to the model."
   ]
  },
  {
   "cell_type": "code",
   "execution_count": 33,
   "metadata": {},
   "outputs": [
    {
     "name": "stdout",
     "output_type": "stream",
     "text": [
      "\n",
      "Epoch 00001: LearningRateScheduler reducing learning rate to 0.1.\n",
      "Epoch 1/100\n",
      "58/58 [==============================] - 100s 2s/step - loss: 3.1769 - accuracy: 0.5117 - val_loss: 3.1013 - val_accuracy: 0.4503\n",
      "\n",
      "Epoch 00002: LearningRateScheduler reducing learning rate to 0.1.\n",
      "Epoch 2/100\n",
      "58/58 [==============================] - 96s 2s/step - loss: 3.0818 - accuracy: 0.5757 - val_loss: 2.4195 - val_accuracy: 0.5305\n",
      "\n",
      "Epoch 00003: LearningRateScheduler reducing learning rate to 0.1.\n",
      "Epoch 3/100\n",
      "58/58 [==============================] - 96s 2s/step - loss: 2.9389 - accuracy: 0.6023 - val_loss: 2.7220 - val_accuracy: 0.5358\n",
      "\n",
      "Epoch 00004: LearningRateScheduler reducing learning rate to 0.1.\n",
      "Epoch 4/100\n",
      "58/58 [==============================] - 97s 2s/step - loss: 2.7398 - accuracy: 0.5905 - val_loss: 2.5478 - val_accuracy: 0.5550\n",
      "\n",
      "Epoch 00005: LearningRateScheduler reducing learning rate to 0.1.\n",
      "Epoch 5/100\n",
      "58/58 [==============================] - 96s 2s/step - loss: 2.9776 - accuracy: 0.5940 - val_loss: 4.3426 - val_accuracy: 0.4555\n",
      "\n",
      "Epoch 00006: LearningRateScheduler reducing learning rate to 0.1.\n",
      "Epoch 6/100\n",
      "58/58 [==============================] - 96s 2s/step - loss: 2.8147 - accuracy: 0.6097 - val_loss: 2.2274 - val_accuracy: 0.5899\n",
      "\n",
      "Epoch 00007: LearningRateScheduler reducing learning rate to 0.1.\n",
      "Epoch 7/100\n",
      "58/58 [==============================] - 96s 2s/step - loss: 3.1529 - accuracy: 0.6027 - val_loss: 3.2108 - val_accuracy: 0.6056\n",
      "\n",
      "Epoch 00008: LearningRateScheduler reducing learning rate to 0.1.\n",
      "Epoch 8/100\n",
      "58/58 [==============================] - 96s 2s/step - loss: 3.0673 - accuracy: 0.6210 - val_loss: 2.3575 - val_accuracy: 0.6003\n",
      "\n",
      "Epoch 00009: LearningRateScheduler reducing learning rate to 0.1.\n",
      "Epoch 9/100\n",
      "58/58 [==============================] - 97s 2s/step - loss: 3.0236 - accuracy: 0.6166 - val_loss: 2.4198 - val_accuracy: 0.5881\n",
      "\n",
      "Epoch 00010: LearningRateScheduler reducing learning rate to 0.05.\n",
      "Epoch 10/100\n",
      "58/58 [==============================] - 96s 2s/step - loss: 2.7992 - accuracy: 0.6201 - val_loss: 1.6628 - val_accuracy: 0.6300\n",
      "\n",
      "Epoch 00011: LearningRateScheduler reducing learning rate to 0.05.\n",
      "Epoch 11/100\n",
      "58/58 [==============================] - 97s 2s/step - loss: 2.1961 - accuracy: 0.6614 - val_loss: 1.3075 - val_accuracy: 0.6614\n",
      "\n",
      "Epoch 00012: LearningRateScheduler reducing learning rate to 0.05.\n",
      "Epoch 12/100\n",
      "58/58 [==============================] - 96s 2s/step - loss: 2.0701 - accuracy: 0.6571 - val_loss: 2.3045 - val_accuracy: 0.5358\n",
      "\n",
      "Epoch 00013: LearningRateScheduler reducing learning rate to 0.05.\n",
      "Epoch 13/100\n",
      "58/58 [==============================] - 97s 2s/step - loss: 2.0016 - accuracy: 0.6584 - val_loss: 1.4117 - val_accuracy: 0.6719\n",
      "\n",
      "Epoch 00014: LearningRateScheduler reducing learning rate to 0.05.\n",
      "Epoch 14/100\n",
      "58/58 [==============================] - 96s 2s/step - loss: 1.8587 - accuracy: 0.6628 - val_loss: 1.5915 - val_accuracy: 0.6545\n",
      "\n",
      "Epoch 00015: LearningRateScheduler reducing learning rate to 0.05.\n",
      "Epoch 15/100\n",
      "58/58 [==============================] - 96s 2s/step - loss: 2.0612 - accuracy: 0.6340 - val_loss: 1.3948 - val_accuracy: 0.6632\n",
      "\n",
      "Epoch 00016: LearningRateScheduler reducing learning rate to 0.05.\n",
      "Epoch 16/100\n",
      "58/58 [==============================] - 97s 2s/step - loss: 1.8038 - accuracy: 0.6614 - val_loss: 1.3534 - val_accuracy: 0.6283\n",
      "\n",
      "Epoch 00017: LearningRateScheduler reducing learning rate to 0.05.\n",
      "Epoch 17/100\n",
      "58/58 [==============================] - 96s 2s/step - loss: 1.7894 - accuracy: 0.6562 - val_loss: 1.5906 - val_accuracy: 0.6108\n",
      "\n",
      "Epoch 00018: LearningRateScheduler reducing learning rate to 0.05.\n",
      "Epoch 18/100\n",
      "58/58 [==============================] - 96s 2s/step - loss: 1.7592 - accuracy: 0.6466 - val_loss: 1.5197 - val_accuracy: 0.6370\n",
      "\n",
      "Epoch 00019: LearningRateScheduler reducing learning rate to 0.05.\n",
      "Epoch 19/100\n",
      "58/58 [==============================] - 98s 2s/step - loss: 1.6400 - accuracy: 0.6815 - val_loss: 1.2733 - val_accuracy: 0.6091\n",
      "\n",
      "Epoch 00020: LearningRateScheduler reducing learning rate to 0.025.\n",
      "Epoch 20/100\n",
      "58/58 [==============================] - 97s 2s/step - loss: 1.4555 - accuracy: 0.6784 - val_loss: 1.2654 - val_accuracy: 0.6230\n",
      "\n",
      "Epoch 00021: LearningRateScheduler reducing learning rate to 0.025.\n",
      "Epoch 21/100\n",
      "58/58 [==============================] - 97s 2s/step - loss: 1.2331 - accuracy: 0.7106 - val_loss: 1.1985 - val_accuracy: 0.6719\n",
      "\n",
      "Epoch 00022: LearningRateScheduler reducing learning rate to 0.025.\n",
      "Epoch 22/100\n",
      "58/58 [==============================] - 97s 2s/step - loss: 1.2897 - accuracy: 0.6828 - val_loss: 1.0803 - val_accuracy: 0.6998\n",
      "\n",
      "Epoch 00023: LearningRateScheduler reducing learning rate to 0.025.\n",
      "Epoch 23/100\n",
      "58/58 [==============================] - 97s 2s/step - loss: 1.3048 - accuracy: 0.6876 - val_loss: 0.9939 - val_accuracy: 0.6806\n",
      "\n",
      "Epoch 00024: LearningRateScheduler reducing learning rate to 0.025.\n",
      "Epoch 24/100\n",
      "58/58 [==============================] - 97s 2s/step - loss: 1.1783 - accuracy: 0.6963 - val_loss: 1.0127 - val_accuracy: 0.6876\n",
      "\n",
      "Epoch 00025: LearningRateScheduler reducing learning rate to 0.025.\n",
      "Epoch 25/100\n",
      "58/58 [==============================] - 97s 2s/step - loss: 1.1967 - accuracy: 0.7006 - val_loss: 1.0950 - val_accuracy: 0.7016\n",
      "\n",
      "Epoch 00026: LearningRateScheduler reducing learning rate to 0.025.\n",
      "Epoch 26/100\n",
      "58/58 [==============================] - 97s 2s/step - loss: 1.1836 - accuracy: 0.6810 - val_loss: 1.1731 - val_accuracy: 0.6510\n",
      "\n",
      "Epoch 00027: LearningRateScheduler reducing learning rate to 0.025.\n",
      "Epoch 27/100\n",
      "58/58 [==============================] - 97s 2s/step - loss: 1.2137 - accuracy: 0.6793 - val_loss: 1.0371 - val_accuracy: 0.6492\n",
      "\n",
      "Epoch 00028: LearningRateScheduler reducing learning rate to 0.025.\n",
      "Epoch 28/100\n",
      "58/58 [==============================] - 97s 2s/step - loss: 1.1881 - accuracy: 0.6758 - val_loss: 1.0359 - val_accuracy: 0.6771\n",
      "\n",
      "Epoch 00029: LearningRateScheduler reducing learning rate to 0.025.\n",
      "Epoch 29/100\n",
      "58/58 [==============================] - 97s 2s/step - loss: 1.1398 - accuracy: 0.6841 - val_loss: 0.8892 - val_accuracy: 0.6998\n",
      "\n",
      "Epoch 00030: LearningRateScheduler reducing learning rate to 0.0125.\n",
      "Epoch 30/100\n",
      "58/58 [==============================] - 97s 2s/step - loss: 1.0398 - accuracy: 0.7093 - val_loss: 0.8021 - val_accuracy: 0.7016\n",
      "\n",
      "Epoch 00031: LearningRateScheduler reducing learning rate to 0.0125.\n",
      "Epoch 31/100\n",
      "58/58 [==============================] - 97s 2s/step - loss: 0.9978 - accuracy: 0.7006 - val_loss: 0.7629 - val_accuracy: 0.7260\n",
      "\n",
      "Epoch 00032: LearningRateScheduler reducing learning rate to 0.0125.\n",
      "Epoch 32/100\n",
      "58/58 [==============================] - 97s 2s/step - loss: 1.0442 - accuracy: 0.6941 - val_loss: 0.7973 - val_accuracy: 0.6998\n",
      "\n",
      "Epoch 00033: LearningRateScheduler reducing learning rate to 0.0125.\n",
      "Epoch 33/100\n",
      "58/58 [==============================] - 97s 2s/step - loss: 0.9528 - accuracy: 0.7058 - val_loss: 0.9101 - val_accuracy: 0.6614\n",
      "\n",
      "Epoch 00034: LearningRateScheduler reducing learning rate to 0.0125.\n",
      "Epoch 34/100\n",
      "58/58 [==============================] - 99s 2s/step - loss: 0.9616 - accuracy: 0.7076 - val_loss: 0.7333 - val_accuracy: 0.7086\n",
      "\n",
      "Epoch 00035: LearningRateScheduler reducing learning rate to 0.0125.\n",
      "Epoch 35/100\n",
      "58/58 [==============================] - 104s 2s/step - loss: 0.9438 - accuracy: 0.6923 - val_loss: 0.7428 - val_accuracy: 0.7016\n",
      "\n",
      "Epoch 00036: LearningRateScheduler reducing learning rate to 0.0125.\n",
      "Epoch 36/100\n",
      "58/58 [==============================] - 100s 2s/step - loss: 0.9388 - accuracy: 0.6928 - val_loss: 0.7731 - val_accuracy: 0.7138\n",
      "\n",
      "Epoch 00037: LearningRateScheduler reducing learning rate to 0.0125.\n",
      "Epoch 37/100\n",
      "58/58 [==============================] - 97s 2s/step - loss: 0.9212 - accuracy: 0.7063 - val_loss: 0.6473 - val_accuracy: 0.7400\n",
      "\n",
      "Epoch 00038: LearningRateScheduler reducing learning rate to 0.0125.\n",
      "Epoch 38/100\n",
      "58/58 [==============================] - 97s 2s/step - loss: 0.8650 - accuracy: 0.7137 - val_loss: 0.7526 - val_accuracy: 0.6928\n",
      "\n",
      "Epoch 00039: LearningRateScheduler reducing learning rate to 0.0125.\n",
      "Epoch 39/100\n",
      "58/58 [==============================] - 97s 2s/step - loss: 0.9193 - accuracy: 0.7063 - val_loss: 0.7304 - val_accuracy: 0.7155\n"
     ]
    },
    {
     "name": "stdout",
     "output_type": "stream",
     "text": [
      "\n",
      "Epoch 00040: LearningRateScheduler reducing learning rate to 0.00625.\n",
      "Epoch 40/100\n",
      "58/58 [==============================] - 97s 2s/step - loss: 0.9008 - accuracy: 0.7084 - val_loss: 0.7191 - val_accuracy: 0.6876\n",
      "\n",
      "Epoch 00041: LearningRateScheduler reducing learning rate to 0.00625.\n",
      "Epoch 41/100\n",
      "58/58 [==============================] - 97s 2s/step - loss: 0.8693 - accuracy: 0.7167 - val_loss: 0.7110 - val_accuracy: 0.6981\n",
      "\n",
      "Epoch 00042: LearningRateScheduler reducing learning rate to 0.00625.\n",
      "Epoch 42/100\n",
      "58/58 [==============================] - 97s 2s/step - loss: 0.8295 - accuracy: 0.7232 - val_loss: 0.7560 - val_accuracy: 0.6754\n",
      "\n",
      "Epoch 00043: LearningRateScheduler reducing learning rate to 0.00625.\n",
      "Epoch 43/100\n",
      "58/58 [==============================] - 97s 2s/step - loss: 0.8520 - accuracy: 0.7063 - val_loss: 0.7872 - val_accuracy: 0.6859\n",
      "\n",
      "Epoch 00044: LearningRateScheduler reducing learning rate to 0.00625.\n",
      "Epoch 44/100\n",
      "58/58 [==============================] - 97s 2s/step - loss: 0.8582 - accuracy: 0.7150 - val_loss: 0.7684 - val_accuracy: 0.6841\n",
      "\n",
      "Epoch 00045: LearningRateScheduler reducing learning rate to 0.00625.\n",
      "Epoch 45/100\n",
      "58/58 [==============================] - 97s 2s/step - loss: 0.8414 - accuracy: 0.7067 - val_loss: 0.7159 - val_accuracy: 0.6998\n",
      "\n",
      "Epoch 00046: LearningRateScheduler reducing learning rate to 0.00625.\n",
      "Epoch 46/100\n",
      "58/58 [==============================] - 98s 2s/step - loss: 0.8339 - accuracy: 0.7128 - val_loss: 0.7566 - val_accuracy: 0.6876\n",
      "\n",
      "Epoch 00047: LearningRateScheduler reducing learning rate to 0.00625.\n",
      "Epoch 47/100\n",
      "58/58 [==============================] - 97s 2s/step - loss: 0.7890 - accuracy: 0.7289 - val_loss: 0.7536 - val_accuracy: 0.7033\n",
      "\n",
      "Epoch 00048: LearningRateScheduler reducing learning rate to 0.00625.\n",
      "Epoch 48/100\n",
      "58/58 [==============================] - 97s 2s/step - loss: 0.7979 - accuracy: 0.7263 - val_loss: 0.6940 - val_accuracy: 0.7260\n",
      "\n",
      "Epoch 00049: LearningRateScheduler reducing learning rate to 0.00625.\n",
      "Epoch 49/100\n",
      "58/58 [==============================] - 97s 2s/step - loss: 0.8101 - accuracy: 0.7163 - val_loss: 0.7031 - val_accuracy: 0.6963\n",
      "\n",
      "Epoch 00050: LearningRateScheduler reducing learning rate to 0.003125.\n",
      "Epoch 50/100\n",
      "58/58 [==============================] - 97s 2s/step - loss: 0.8476 - accuracy: 0.7228 - val_loss: 0.7436 - val_accuracy: 0.6911\n",
      "\n",
      "Epoch 00051: LearningRateScheduler reducing learning rate to 0.003125.\n",
      "Epoch 51/100\n",
      "58/58 [==============================] - 97s 2s/step - loss: 0.7722 - accuracy: 0.7245 - val_loss: 0.6564 - val_accuracy: 0.7277\n",
      "\n",
      "Epoch 00052: LearningRateScheduler reducing learning rate to 0.003125.\n",
      "Epoch 52/100\n",
      "58/58 [==============================] - 97s 2s/step - loss: 0.7744 - accuracy: 0.7385 - val_loss: 0.6957 - val_accuracy: 0.7120\n",
      "\n",
      "Epoch 00053: LearningRateScheduler reducing learning rate to 0.003125.\n",
      "Epoch 53/100\n",
      "58/58 [==============================] - 97s 2s/step - loss: 0.7924 - accuracy: 0.7328 - val_loss: 0.7312 - val_accuracy: 0.7086\n",
      "\n",
      "Epoch 00054: LearningRateScheduler reducing learning rate to 0.003125.\n",
      "Epoch 54/100\n",
      "58/58 [==============================] - 97s 2s/step - loss: 0.7691 - accuracy: 0.7241 - val_loss: 0.7527 - val_accuracy: 0.6806\n",
      "\n",
      "Epoch 00055: LearningRateScheduler reducing learning rate to 0.003125.\n",
      "Epoch 55/100\n",
      "58/58 [==============================] - 97s 2s/step - loss: 0.7760 - accuracy: 0.7163 - val_loss: 0.6767 - val_accuracy: 0.7190\n",
      "\n",
      "Epoch 00056: LearningRateScheduler reducing learning rate to 0.003125.\n",
      "Epoch 56/100\n",
      "58/58 [==============================] - 97s 2s/step - loss: 0.7568 - accuracy: 0.7189 - val_loss: 0.7274 - val_accuracy: 0.7033\n",
      "\n",
      "Epoch 00057: LearningRateScheduler reducing learning rate to 0.003125.\n",
      "Epoch 57/100\n",
      "58/58 [==============================] - 97s 2s/step - loss: 0.8009 - accuracy: 0.7106 - val_loss: 0.6507 - val_accuracy: 0.7277\n",
      "\n",
      "Epoch 00058: LearningRateScheduler reducing learning rate to 0.003125.\n",
      "Epoch 58/100\n",
      "58/58 [==============================] - 97s 2s/step - loss: 0.7372 - accuracy: 0.7285 - val_loss: 0.6312 - val_accuracy: 0.7190\n",
      "\n",
      "Epoch 00059: LearningRateScheduler reducing learning rate to 0.003125.\n",
      "Epoch 59/100\n",
      "58/58 [==============================] - 97s 2s/step - loss: 0.8034 - accuracy: 0.7245 - val_loss: 0.6872 - val_accuracy: 0.6981\n",
      "\n",
      "Epoch 00060: LearningRateScheduler reducing learning rate to 0.0015625.\n",
      "Epoch 60/100\n",
      "58/58 [==============================] - 97s 2s/step - loss: 0.7688 - accuracy: 0.7293 - val_loss: 0.6789 - val_accuracy: 0.7120\n",
      "\n",
      "Epoch 00061: LearningRateScheduler reducing learning rate to 0.0015625.\n",
      "Epoch 61/100\n",
      "58/58 [==============================] - 97s 2s/step - loss: 0.7980 - accuracy: 0.7211 - val_loss: 0.7306 - val_accuracy: 0.7016\n",
      "\n",
      "Epoch 00062: LearningRateScheduler reducing learning rate to 0.0015625.\n",
      "Epoch 62/100\n",
      "58/58 [==============================] - 97s 2s/step - loss: 0.7843 - accuracy: 0.7293 - val_loss: 0.6992 - val_accuracy: 0.7051\n",
      "\n",
      "Epoch 00063: LearningRateScheduler reducing learning rate to 0.0015625.\n",
      "Epoch 63/100\n",
      "58/58 [==============================] - 97s 2s/step - loss: 0.7816 - accuracy: 0.7285 - val_loss: 0.7241 - val_accuracy: 0.7173\n",
      "\n",
      "Epoch 00064: LearningRateScheduler reducing learning rate to 0.0015625.\n",
      "Epoch 64/100\n",
      "58/58 [==============================] - 97s 2s/step - loss: 0.7661 - accuracy: 0.7215 - val_loss: 0.6780 - val_accuracy: 0.7120\n",
      "\n",
      "Epoch 00065: LearningRateScheduler reducing learning rate to 0.0015625.\n",
      "Epoch 65/100\n",
      "58/58 [==============================] - 97s 2s/step - loss: 0.7158 - accuracy: 0.7415 - val_loss: 0.7288 - val_accuracy: 0.7051\n",
      "\n",
      "Epoch 00066: LearningRateScheduler reducing learning rate to 0.0015625.\n",
      "Epoch 66/100\n",
      "58/58 [==============================] - 97s 2s/step - loss: 0.7108 - accuracy: 0.7389 - val_loss: 0.7318 - val_accuracy: 0.6876\n",
      "\n",
      "Epoch 00067: LearningRateScheduler reducing learning rate to 0.0015625.\n",
      "Epoch 67/100\n",
      "58/58 [==============================] - 97s 2s/step - loss: 0.7556 - accuracy: 0.7250 - val_loss: 0.7247 - val_accuracy: 0.6859\n",
      "\n",
      "Epoch 00068: LearningRateScheduler reducing learning rate to 0.0015625.\n",
      "Epoch 68/100\n",
      "58/58 [==============================] - 97s 2s/step - loss: 0.7416 - accuracy: 0.7337 - val_loss: 0.6955 - val_accuracy: 0.7225\n",
      "\n",
      "Epoch 00069: LearningRateScheduler reducing learning rate to 0.0015625.\n",
      "Epoch 69/100\n",
      "58/58 [==============================] - 97s 2s/step - loss: 0.7478 - accuracy: 0.7306 - val_loss: 0.6534 - val_accuracy: 0.7173\n",
      "\n",
      "Epoch 00070: LearningRateScheduler reducing learning rate to 0.00078125.\n",
      "Epoch 70/100\n",
      "58/58 [==============================] - 97s 2s/step - loss: 0.7524 - accuracy: 0.7341 - val_loss: 0.7345 - val_accuracy: 0.7033\n",
      "\n",
      "Epoch 00071: LearningRateScheduler reducing learning rate to 0.00078125.\n",
      "Epoch 71/100\n",
      "58/58 [==============================] - 97s 2s/step - loss: 0.6808 - accuracy: 0.7515 - val_loss: 0.7295 - val_accuracy: 0.6719\n",
      "\n",
      "Epoch 00072: LearningRateScheduler reducing learning rate to 0.00078125.\n",
      "Epoch 72/100\n",
      "58/58 [==============================] - 97s 2s/step - loss: 0.7673 - accuracy: 0.7258 - val_loss: 0.6975 - val_accuracy: 0.7138\n",
      "\n",
      "Epoch 00073: LearningRateScheduler reducing learning rate to 0.00078125.\n",
      "Epoch 73/100\n",
      "58/58 [==============================] - 97s 2s/step - loss: 0.7546 - accuracy: 0.7263 - val_loss: 0.6755 - val_accuracy: 0.7051\n",
      "\n",
      "Epoch 00074: LearningRateScheduler reducing learning rate to 0.00078125.\n",
      "Epoch 74/100\n",
      "58/58 [==============================] - 97s 2s/step - loss: 0.7330 - accuracy: 0.7411 - val_loss: 0.7395 - val_accuracy: 0.6911\n",
      "\n",
      "Epoch 00075: LearningRateScheduler reducing learning rate to 0.00078125.\n",
      "Epoch 75/100\n",
      "58/58 [==============================] - 97s 2s/step - loss: 0.7471 - accuracy: 0.7424 - val_loss: 0.6882 - val_accuracy: 0.7103\n",
      "\n",
      "Epoch 00076: LearningRateScheduler reducing learning rate to 0.00078125.\n",
      "Epoch 76/100\n",
      "58/58 [==============================] - 97s 2s/step - loss: 0.7272 - accuracy: 0.7285 - val_loss: 0.6780 - val_accuracy: 0.6981\n",
      "\n",
      "Epoch 00077: LearningRateScheduler reducing learning rate to 0.00078125.\n",
      "Epoch 77/100\n",
      "58/58 [==============================] - 97s 2s/step - loss: 0.7119 - accuracy: 0.7524 - val_loss: 0.7088 - val_accuracy: 0.7086\n",
      "\n",
      "Epoch 00078: LearningRateScheduler reducing learning rate to 0.00078125.\n",
      "Epoch 78/100\n"
     ]
    },
    {
     "name": "stdout",
     "output_type": "stream",
     "text": [
      "58/58 [==============================] - 97s 2s/step - loss: 0.7574 - accuracy: 0.7372 - val_loss: 0.7620 - val_accuracy: 0.6579\n",
      "\n",
      "Epoch 00079: LearningRateScheduler reducing learning rate to 0.00078125.\n",
      "Epoch 79/100\n",
      "58/58 [==============================] - 97s 2s/step - loss: 0.7180 - accuracy: 0.7372 - val_loss: 0.7275 - val_accuracy: 0.6684\n",
      "\n",
      "Epoch 00080: LearningRateScheduler reducing learning rate to 0.000390625.\n",
      "Epoch 80/100\n",
      "58/58 [==============================] - 97s 2s/step - loss: 0.7333 - accuracy: 0.7276 - val_loss: 0.7175 - val_accuracy: 0.6876\n",
      "\n",
      "Epoch 00081: LearningRateScheduler reducing learning rate to 0.000390625.\n",
      "Epoch 81/100\n",
      "58/58 [==============================] - 97s 2s/step - loss: 0.7354 - accuracy: 0.7406 - val_loss: 0.6746 - val_accuracy: 0.7068\n",
      "\n",
      "Epoch 00082: LearningRateScheduler reducing learning rate to 0.000390625.\n",
      "Epoch 82/100\n",
      "58/58 [==============================] - 97s 2s/step - loss: 0.7336 - accuracy: 0.7424 - val_loss: 0.7317 - val_accuracy: 0.6789\n",
      "\n",
      "Epoch 00083: LearningRateScheduler reducing learning rate to 0.000390625.\n",
      "Epoch 83/100\n",
      "58/58 [==============================] - 97s 2s/step - loss: 0.7466 - accuracy: 0.7163 - val_loss: 0.6850 - val_accuracy: 0.7086\n",
      "\n",
      "Epoch 00084: LearningRateScheduler reducing learning rate to 0.000390625.\n",
      "Epoch 84/100\n",
      "58/58 [==============================] - 97s 2s/step - loss: 0.7157 - accuracy: 0.7324 - val_loss: 0.7492 - val_accuracy: 0.7190\n",
      "\n",
      "Epoch 00085: LearningRateScheduler reducing learning rate to 0.000390625.\n",
      "Epoch 85/100\n",
      "58/58 [==============================] - 97s 2s/step - loss: 0.7508 - accuracy: 0.7232 - val_loss: 0.6985 - val_accuracy: 0.7086\n",
      "\n",
      "Epoch 00086: LearningRateScheduler reducing learning rate to 0.000390625.\n",
      "Epoch 86/100\n",
      "58/58 [==============================] - 97s 2s/step - loss: 0.7310 - accuracy: 0.7219 - val_loss: 0.7180 - val_accuracy: 0.6963\n",
      "\n",
      "Epoch 00087: LearningRateScheduler reducing learning rate to 0.000390625.\n",
      "Epoch 87/100\n",
      "58/58 [==============================] - 97s 2s/step - loss: 0.7363 - accuracy: 0.7267 - val_loss: 0.6761 - val_accuracy: 0.7208\n",
      "\n",
      "Epoch 00088: LearningRateScheduler reducing learning rate to 0.000390625.\n",
      "Epoch 88/100\n",
      "58/58 [==============================] - 97s 2s/step - loss: 0.7190 - accuracy: 0.7319 - val_loss: 0.6909 - val_accuracy: 0.6911\n",
      "\n",
      "Epoch 00089: LearningRateScheduler reducing learning rate to 0.000390625.\n",
      "Epoch 89/100\n",
      "58/58 [==============================] - 97s 2s/step - loss: 0.7371 - accuracy: 0.7406 - val_loss: 0.7269 - val_accuracy: 0.6876\n",
      "\n",
      "Epoch 00090: LearningRateScheduler reducing learning rate to 0.0001953125.\n",
      "Epoch 90/100\n",
      "58/58 [==============================] - 97s 2s/step - loss: 0.7489 - accuracy: 0.7315 - val_loss: 0.6777 - val_accuracy: 0.6928\n",
      "\n",
      "Epoch 00091: LearningRateScheduler reducing learning rate to 0.0001953125.\n",
      "Epoch 91/100\n",
      "58/58 [==============================] - 97s 2s/step - loss: 0.7122 - accuracy: 0.7328 - val_loss: 0.6751 - val_accuracy: 0.6946\n",
      "\n",
      "Epoch 00092: LearningRateScheduler reducing learning rate to 0.0001953125.\n",
      "Epoch 92/100\n",
      "58/58 [==============================] - 97s 2s/step - loss: 0.7423 - accuracy: 0.7341 - val_loss: 0.6859 - val_accuracy: 0.7190\n",
      "\n",
      "Epoch 00093: LearningRateScheduler reducing learning rate to 0.0001953125.\n",
      "Epoch 93/100\n",
      "58/58 [==============================] - 97s 2s/step - loss: 0.7192 - accuracy: 0.7402 - val_loss: 0.6812 - val_accuracy: 0.7173\n",
      "\n",
      "Epoch 00094: LearningRateScheduler reducing learning rate to 0.0001953125.\n",
      "Epoch 94/100\n",
      "58/58 [==============================] - 97s 2s/step - loss: 0.7611 - accuracy: 0.7341 - val_loss: 0.7205 - val_accuracy: 0.6771\n",
      "\n",
      "Epoch 00095: LearningRateScheduler reducing learning rate to 0.0001953125.\n",
      "Epoch 95/100\n",
      "58/58 [==============================] - 97s 2s/step - loss: 0.7739 - accuracy: 0.7219 - val_loss: 0.7603 - val_accuracy: 0.6841\n",
      "\n",
      "Epoch 00096: LearningRateScheduler reducing learning rate to 0.0001953125.\n",
      "Epoch 96/100\n",
      "58/58 [==============================] - 97s 2s/step - loss: 0.7208 - accuracy: 0.7406 - val_loss: 0.7354 - val_accuracy: 0.6876\n",
      "\n",
      "Epoch 00097: LearningRateScheduler reducing learning rate to 0.0001953125.\n",
      "Epoch 97/100\n",
      "58/58 [==============================] - 97s 2s/step - loss: 0.7713 - accuracy: 0.7189 - val_loss: 0.6810 - val_accuracy: 0.7103\n",
      "\n",
      "Epoch 00098: LearningRateScheduler reducing learning rate to 0.0001953125.\n",
      "Epoch 98/100\n",
      "58/58 [==============================] - 97s 2s/step - loss: 0.7517 - accuracy: 0.7315 - val_loss: 0.7139 - val_accuracy: 0.7103\n",
      "\n",
      "Epoch 00099: LearningRateScheduler reducing learning rate to 0.0001953125.\n",
      "Epoch 99/100\n",
      "58/58 [==============================] - 97s 2s/step - loss: 0.7454 - accuracy: 0.7385 - val_loss: 0.7779 - val_accuracy: 0.6911\n",
      "\n",
      "Epoch 00100: LearningRateScheduler reducing learning rate to 9.765625e-05.\n",
      "Epoch 100/100\n",
      "58/58 [==============================] - 97s 2s/step - loss: 0.7276 - accuracy: 0.7289 - val_loss: 0.7418 - val_accuracy: 0.6789\n"
     ]
    }
   ],
   "source": [
    "model = create_nasnet_model()\n",
    "\n",
    "# Train the model\n",
    "history = model.fit(\n",
    "    train_generator,\n",
    "    validation_data=val_generator,\n",
    "    epochs=NUM_EPOCHS,\n",
    "    workers=6,\n",
    "    max_queue_size=100,\n",
    "    verbose=True,\n",
    "    callbacks=callbacks_list,\n",
    "    class_weight = class_wt\n",
    ")"
   ]
  },
  {
   "cell_type": "code",
   "execution_count": 34,
   "metadata": {},
   "outputs": [
    {
     "name": "stdout",
     "output_type": "stream",
     "text": [
      "Model: \"sequential_1\"\n",
      "_________________________________________________________________\n",
      "Layer (type)                 Output Shape              Param #   \n",
      "=================================================================\n",
      "NASNet (Functional)          (None, 7, 7, 1056)        4269716   \n",
      "_________________________________________________________________\n",
      "global_average_pooling2d_1 ( (None, 1056)              0         \n",
      "_________________________________________________________________\n",
      "dropout_1 (Dropout)          (None, 1056)              0         \n",
      "_________________________________________________________________\n",
      "dense_1 (Dense)              (None, 4)                 4228      \n",
      "=================================================================\n",
      "Total params: 4,273,944\n",
      "Trainable params: 4,228\n",
      "Non-trainable params: 4,269,716\n",
      "_________________________________________________________________\n"
     ]
    }
   ],
   "source": [
    "model.summary()"
   ]
  },
  {
   "cell_type": "code",
   "execution_count": 35,
   "metadata": {},
   "outputs": [
    {
     "name": "stdout",
     "output_type": "stream",
     "text": [
      "10/10 [==============================] - 11s 1s/step - loss: 1.2337 - accuracy: 0.5964\n",
      "Test Accuracy: 59.6446692943573%\n"
     ]
    }
   ],
   "source": [
    "loss, accuracy = model.evaluate(test_generator)\n",
    "\n",
    "print(f\"Test Accuracy: {accuracy * 100}%\")"
   ]
  },
  {
   "cell_type": "code",
   "execution_count": 36,
   "metadata": {},
   "outputs": [
    {
     "data": {
      "image/png": "[encoded data removed]",
      "text/plain": [
       "<Figure size 432x288 with 2 Axes>"
      ]
     },
     "metadata": {
      "needs_background": "light"
     },
     "output_type": "display_data"
    }
   ],
   "source": [
    "\n",
    "plt.figure(1)\n",
    "\n",
    "# summarize history for accuracy\n",
    "plt.subplot(211) \n",
    "plt.plot(history.history['accuracy']) \n",
    "plt.plot(history.history['val_accuracy']) \n",
    "plt.title('model accuracy') \n",
    "plt.ylabel('accuracy')\n",
    "plt.xlabel('epoch')\n",
    "plt.legend(['Accuracy', 'val_acc'], loc='upper left')\n",
    "\n",
    "# summarize history for loss\n",
    "plt.subplot(212) \n",
    "plt.plot(history.history['loss']) \n",
    "plt.plot(history.history['val_loss']) \n",
    "plt.title('model loss')\n",
    "plt.ylabel('loss')\n",
    "plt.xlabel('epoch')\n",
    "plt.legend(['train', 'val'], loc='upper left')\n",
    "plt.tight_layout() \n",
    "plt.savefig('acc_loss_50.pdf')\n",
    "plt.show()"
   ]
  },
  {
   "cell_type": "code",
   "execution_count": 37,
   "metadata": {},
   "outputs": [
    {
     "name": "stdout",
     "output_type": "stream",
     "text": [
      "WARNING:tensorflow:From <ipython-input-37-e675abc14496>:3: Model.predict_generator (from tensorflow.python.keras.engine.training) is deprecated and will be removed in a future version.\n",
      "Instructions for updating:\n",
      "Please use Model.predict, which supports generators.\n"
     ]
    }
   ],
   "source": [
    "import numpy as np\n",
    "\n",
    "predictions = model.predict_generator(test_generator)\n",
    "# Get most likely class\n",
    "predicted_classes = np.argmax(predictions, axis=1)"
   ]
  },
  {
   "cell_type": "code",
   "execution_count": 38,
   "metadata": {},
   "outputs": [],
   "source": [
    "true_classes = test_generator.classes\n",
    "class_labels = list(test_generator.class_indices.keys())   "
   ]
  },
  {
   "cell_type": "code",
   "execution_count": 39,
   "metadata": {},
   "outputs": [
    {
     "name": "stdout",
     "output_type": "stream",
     "text": [
      "                  precision    recall  f1-score   support\n",
      "\n",
      "    glioma_tumor       0.54      0.37      0.44       100\n",
      "meningioma_tumor       0.50      0.57      0.54       115\n",
      "        no_tumor       0.73      0.76      0.74       105\n",
      " pituitary_tumor       0.61      0.70      0.65        74\n",
      "\n",
      "        accuracy                           0.60       394\n",
      "       macro avg       0.60      0.60      0.59       394\n",
      "    weighted avg       0.59      0.60      0.59       394\n",
      "\n"
     ]
    }
   ],
   "source": [
    "from sklearn.metrics import classification_report\n",
    "\n",
    "report = classification_report(true_classes, predicted_classes, target_names=class_labels)\n",
    "print(report)"
   ]
  },
  {
   "cell_type": "code",
   "execution_count": null,
   "metadata": {},
   "outputs": [],
   "source": []
  }
 ],
 "metadata": {
  "kernelspec": {
   "display_name": "Python 3",
   "language": "python",
   "name": "python3"
  },
  "language_info": {
   "codemirror_mode": {
    "name": "ipython",
    "version": 3
   },
   "file_extension": ".py",
   "mimetype": "text/x-python",
   "name": "python",
   "nbconvert_exporter": "python",
   "pygments_lexer": "ipython3",
   "version": "3.7.6"
  }
 },
 "nbformat": 4,
 "nbformat_minor": 4
}
