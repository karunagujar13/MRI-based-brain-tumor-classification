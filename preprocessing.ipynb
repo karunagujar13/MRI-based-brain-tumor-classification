{
 "cells": [
  {
   "cell_type": "code",
   "execution_count": 13,
   "metadata": {},
   "outputs": [],
   "source": [
    "# import Opencv \n",
    "import cv2 \n",
    "  \n",
    "# import Numpy \n",
    "import numpy as np \n",
    "import os\n",
    "# read a image using imread \n",
    "import matplotlib.pyplot as plt"
   ]
  },
  {
   "cell_type": "markdown",
   "metadata": {},
   "source": [
    "### Creating folders for processed data under 'data'"
   ]
  },
  {
   "cell_type": "code",
   "execution_count": 14,
   "metadata": {},
   "outputs": [],
   "source": [
    "##### DATA_PATH = './data/'\n",
    "curr_path = DATA_PATH+'processed_data'\n",
    "\n",
    "if not os.path.exists(curr_path):\n",
    "    os.makedirs(curr_path)\n",
    "\n",
    "for f in ['/Training', '/Testing']:\n",
    "    \n",
    "    data_split = curr_path+f\n",
    "    \n",
    "    if not os.path.exists(data_split):\n",
    "        print('Creating folder: ',data_split)\n",
    "        os.makedirs(data_split)\n",
    "    next_path = DATA_PATH+'processed_data'+f\n",
    "    \n",
    "    for c in ['/glioma_tumor', '/meningioma_tumor', '/pituitary_tumor', '/no_tumor']:\n",
    "        \n",
    "        class_folder = next_path+c\n",
    "        \n",
    "        if not os.path.exists(class_folder):\n",
    "            print('Creating folder: ',class_folder)\n",
    "            os.makedirs(class_folder)"
   ]
  },
  {
   "cell_type": "markdown",
   "metadata": {},
   "source": [
    "### Histogram equilization "
   ]
  },
  {
   "cell_type": "code",
   "execution_count": 15,
   "metadata": {},
   "outputs": [],
   "source": [
    "\n",
    "def hist_normalization(img):\n",
    "\n",
    "    img_yuv = cv2.cvtColor(img, cv2.COLOR_BGR2YUV)\n",
    "\n",
    "    # equalize the histogram of the Y channel\n",
    "    img_yuv[:,:,0] = cv2.equalizeHist(img_yuv[:,:,0])\n",
    "\n",
    "    # convert the YUV image back to RGB format\n",
    "    img_output = cv2.cvtColor(img_yuv, cv2.COLOR_YUV2BGR)\n",
    "\n",
    "    cv2.waitKey(0)\n",
    "    return img_output\n"
   ]
  },
  {
   "cell_type": "code",
   "execution_count": 16,
   "metadata": {},
   "outputs": [
    {
     "name": "stdout",
     "output_type": "stream",
     "text": [
      ".DS_Store\n",
      "glioma_tumor\n",
      "****** Processing folder:  glioma_tumor\n",
      "meningioma_tumor\n",
      "****** Processing folder:  meningioma_tumor\n",
      "no_tumor\n",
      "****** Processing folder:  no_tumor\n",
      "pituitary_tumor\n",
      "****** Processing folder:  pituitary_tumor\n"
     ]
    }
   ],
   "source": [
    "from scipy import ndimage, misc\n",
    "import numpy as np\n",
    "import os\n",
    "import cv2\n",
    "import PIL\n",
    "import imageio\n",
    "\n",
    "OUT_PATH = \"./data/processed_data/Training/\"\n",
    "PATH = \"./data/Training/\"\n",
    "\n",
    "folders = os.listdir(PATH)\n",
    "for f in folders:\n",
    "    if f != '.DS_Store':\n",
    "        print('****** Processing folder: ',f)\n",
    "        in_path = PATH + f\n",
    "        final_out_path = OUT_PATH  +f\n",
    "        for image_path in os.listdir(in_path):\n",
    "            \n",
    "            input_path = os.path.join(in_path, image_path)\n",
    "            image_to_process = imageio.imread(input_path)\n",
    "            processed = hist_normalization(image_to_process)\n",
    "\n",
    "            fullpath = os.path.join(final_out_path, image_path)\n",
    "            imageio.imwrite(fullpath, processed)\n",
    "\n"
   ]
  },
  {
   "cell_type": "code",
   "execution_count": 17,
   "metadata": {},
   "outputs": [
    {
     "name": "stdout",
     "output_type": "stream",
     "text": [
      "****** Processing folder:  glioma_tumor\n",
      "****** Processing folder:  meningioma_tumor\n",
      "****** Processing folder:  no_tumor\n",
      "****** Processing folder:  pituitary_tumor\n"
     ]
    }
   ],
   "source": [
    "from scipy import ndimage, misc\n",
    "import numpy as np\n",
    "import os\n",
    "import cv2\n",
    "import PIL\n",
    "import imageio\n",
    "\n",
    "OUT_PATH = \"./data/processed_data/Testing/\"\n",
    "PATH = \"./data/Testing/\"\n",
    "\n",
    "folders = os.listdir(PATH)\n",
    "for f in folders:\n",
    "    if f != '.DS_Store':\n",
    "        print('****** Processing folder: ',f)\n",
    "        in_path = PATH + f\n",
    "        final_out_path = OUT_PATH  +f\n",
    "        for image_path in os.listdir(in_path):\n",
    "            \n",
    "            input_path = os.path.join(in_path, image_path)\n",
    "            image_to_process = imageio.imread(input_path)\n",
    "            processed = hist_normalization(image_to_process)\n",
    "\n",
    "            fullpath = os.path.join(final_out_path, image_path)\n",
    "            imageio.imwrite(fullpath, processed)\n"
   ]
  },
  {
   "cell_type": "code",
   "execution_count": null,
   "metadata": {},
   "outputs": [],
   "source": []
  }
 ],
 "metadata": {
  "kernelspec": {
   "display_name": "Python 3",
   "language": "python",
   "name": "python3"
  },
  "language_info": {
   "codemirror_mode": {
    "name": "ipython",
    "version": 3
   },
   "file_extension": ".py",
   "mimetype": "text/x-python",
   "name": "python",
   "nbconvert_exporter": "python",
   "pygments_lexer": "ipython3",
   "version": "3.8.1"
  }
 },
 "nbformat": 4,
 "nbformat_minor": 4
}
